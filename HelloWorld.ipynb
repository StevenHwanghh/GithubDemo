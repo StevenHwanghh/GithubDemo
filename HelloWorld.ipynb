{
 "cells": [
  {
   "cell_type": "code",
   "execution_count": 1,
   "id": "25caa06b-1614-4968-b4c7-45996be2338d",
   "metadata": {
    "id": "3e19279b-3301-455b-a65c-31a0e902a036",
    "tags": []
   },
   "outputs": [
    {
     "name": "stdout",
     "output_type": "stream",
     "text": [
      "Hello World\n"
     ]
    }
   ],
   "source": [
    "print(\"Hello World\")"
   ]
  },
  {
   "cell_type": "code",
   "execution_count": 1,
   "id": "6e32a25b-9c8a-457a-b502-7718693412ab",
   "metadata": {
    "id": "6e32a25b-9c8a-457a-b502-7718693412ab",
    "tags": []
   },
   "outputs": [
    {
     "name": "stdout",
     "output_type": "stream",
     "text": [
      "Add by a collaborator\n"
     ]
    }
   ],
   "source": [
    "print(\"Add by a collaborator\")"
   ]
  },
  {
   "cell_type": "code",
   "execution_count": null,
   "id": "04af7191-b012-427f-8880-0bc7d1404459",
   "metadata": {
    "id": "04af7191-b012-427f-8880-0bc7d1404459"
   },
   "outputs": [],
   "source": []
  }
 ],
 "metadata": {
  "kernelspec": {
   "display_name": "Python 3.10",
   "language": "python",
   "name": "python3"
  },
  "language_info": {
   "codemirror_mode": {
    "name": "ipython",
    "version": 3
   },
   "file_extension": ".py",
   "mimetype": "text/x-python",
   "name": "python",
   "nbconvert_exporter": "python",
   "pygments_lexer": "ipython3",
   "version": "3.10.6"
  }
 },
 "nbformat": 4,
 "nbformat_minor": 5
}
